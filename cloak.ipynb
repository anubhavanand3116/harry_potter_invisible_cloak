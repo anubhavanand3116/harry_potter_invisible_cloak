{
  "nbformat": 4,
  "nbformat_minor": 0,
  "metadata": {
    "colab": {
      "name": "cloak.ipynb",
      "provenance": [],
      "authorship_tag": "ABX9TyONCqWsHy8bnp+V3ZharcXC",
      "include_colab_link": true
    },
    "kernelspec": {
      "name": "python3",
      "display_name": "Python 3"
    },
    "language_info": {
      "name": "python"
    }
  },
  "cells": [
    {
      "cell_type": "markdown",
      "metadata": {
        "id": "view-in-github",
        "colab_type": "text"
      },
      "source": [
        "<a href=\"https://colab.research.google.com/github/anubhavanand3116/harry_potter_invisible_cloak/blob/main/cloak.ipynb\" target=\"_parent\"><img src=\"https://colab.research.google.com/assets/colab-badge.svg\" alt=\"Open In Colab\"/></a>"
      ]
    },
    {
      "cell_type": "code",
      "metadata": {
        "id": "1lgMDxrPZsf1"
      },
      "source": [
        "import cv2\n",
        "import numpy as np\n",
        "\n",
        "cap= cv2.VideoCapture(0)\n",
        "backgroud = cv2.imread('./image.jpg')\n",
        "\n",
        "while cap.isOpened():\n",
        "    ret,current_frame = cap.read()\n",
        "    if ret:\n",
        "        #convert image from rgb to hsv\n",
        "        hsv_frame = cv2.cvtColor(current_frame,cv2.COLOR_BGR2HSV)\n",
        "\n",
        "        #set range for  lower  red color detection\n",
        "        l_red = np.array([0,120,70])\n",
        "        u_red = np.array([10,255,255])\n",
        "        mask1 = cv2.inRange(hsv_frame,l_red,u_red)\n",
        "\n",
        "        #range for upper red\n",
        "        l_red = np.array([170,120,70])\n",
        "        u_red = np.array([180,255,255])\n",
        "        mask2 = cv2.inRange(hsv_frame,l_red,u_red)\n",
        "\n",
        "        #generating the final mask\n",
        "        red_mask = mask1 + mask2\n",
        "\n",
        "\n",
        "        red_mask = cv2.morphologyEx(red_mask,cv2.MORPH_OPEN,np.ones((3,3),np.uint8),iterations= 10)\n",
        "        red_mask = cv2.morphologyEx(red_mask,cv2.MORPH_DILATE,np.ones((3,3),np.uint8),iterations = 1)\n",
        "\n",
        "        #substituting red color pixel with background\n",
        "\n",
        "        part1 = cv2.bitwise_and(backgroud,backgroud, mask = red_mask)\n",
        "\n",
        "        #detecting things that are not red\n",
        "        red_free = cv2.bitwise_not(red_mask )\n",
        "\n",
        "\n",
        "        #if cloak is not present \n",
        "        part2 = cv2.bitwise_and(current_frame,current_frame,mask= red_free)\n",
        "\n",
        "        #generating final output combining part1 and part2\n",
        "\n",
        "        cv2.imshow(\"cloak\",part1 + part2 )\n",
        "        if cv2.waitKey(5) == ord('q'):\n",
        "            break\n",
        "\n",
        "\n",
        "cap.release()\n",
        "cv2.destroyAllWindows()\n",
        "\n",
        "\n",
        "\n",
        "\n",
        "\n"
      ],
      "execution_count": null,
      "outputs": []
    }
  ]
}