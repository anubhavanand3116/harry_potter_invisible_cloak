{
  "nbformat": 4,
  "nbformat_minor": 0,
  "metadata": {
    "colab": {
      "name": "main.ipynb",
      "provenance": [],
      "authorship_tag": "ABX9TyMJyJTBT4+NyDdlxKKP8Qv8",
      "include_colab_link": true
    },
    "kernelspec": {
      "name": "python3",
      "display_name": "Python 3"
    },
    "language_info": {
      "name": "python"
    }
  },
  "cells": [
    {
      "cell_type": "markdown",
      "metadata": {
        "id": "view-in-github",
        "colab_type": "text"
      },
      "source": [
        "<a href=\"https://colab.research.google.com/github/anubhavanand3116/harry_potter_invisible_cloak/blob/main/main.ipynb\" target=\"_parent\"><img src=\"https://colab.research.google.com/assets/colab-badge.svg\" alt=\"Open In Colab\"/></a>"
      ]
    },
    {
      "cell_type": "code",
      "metadata": {
        "id": "xEkaErTlZa0O"
      },
      "source": [
        "import numpy as np\n",
        "import cv2\n",
        "import time\n",
        "\n",
        "\n",
        "cap =  cv2.VideoCapture(0)\n",
        "\n",
        "\n",
        "while  cap.isOpened():\n",
        "  ret,backgroud = cap.read()\n",
        "  if ret:\n",
        "    cv2.imshow(\"image\",backgroud)\n",
        "    if cv2.waitKey(5) == ord('q'):\n",
        "      #save the background and get out of this loop\n",
        "      cv2.imwrite(\"image.jpg\",backgroud)\n",
        "      break\n",
        "\n",
        "cap.release()\n",
        "cv2.destroyAllWindows()\n",
        "\n"
      ],
      "execution_count": null,
      "outputs": []
    }
  ]
}